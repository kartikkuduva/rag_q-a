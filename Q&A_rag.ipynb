{
 "cells": [
  {
   "cell_type": "code",
   "execution_count": 79,
   "id": "acdceb03",
   "metadata": {},
   "outputs": [
    {
     "data": {
      "text/plain": [
       "True"
      ]
     },
     "execution_count": 79,
     "metadata": {},
     "output_type": "execute_result"
    }
   ],
   "source": [
    "import os\n",
    "from dotenv import load_dotenv\n",
    "load_dotenv()"
   ]
  },
  {
   "cell_type": "code",
   "execution_count": 80,
   "id": "5f72dff4",
   "metadata": {},
   "outputs": [],
   "source": [
    "os.environ['GROQ_API_KEY']=os.getenv(\"GROQ_API_KEY\")\n",
    "groq_api_key=os.getenv(\"GROQ_API_KEY\")\n",
    "os.environ['HF_TOKEN']=os.getenv(\"huggingface_api\")\n"
   ]
  },
  {
   "cell_type": "code",
   "execution_count": 81,
   "id": "9a24abd4",
   "metadata": {},
   "outputs": [
    {
     "data": {
      "text/plain": [
       "[Document(metadata={'producer': 'Microsoft® Excel® 2016', 'creator': 'Microsoft® Excel® 2016', 'creationdate': '2023-09-08T15:57:51+02:00', 'author': 'CPB Software (Germany) GmbH', 'keywords': '\"WMACCESS, Invoice, Sample Invoice\"', 'moddate': '2023-09-08T15:59:22+02:00', 'subject': 'WMACCESS', 'title': 'Sample Invoice', 'source': 'K:/RAG/Data/sample-invoice.pdf', 'total_pages': 3, 'page': 0, 'page_label': '1'}, page_content='CPB Software (Germany) GmbH - Im Bruch 3 - 63897 Miltenberg/Main\\nMusterkunde AG\\nMr. John Doe\\nMusterstr. 23\\n12345 Musterstadt Name:  Stefanie Müller\\nPhone: +49 9371 9786-0\\nInvoice WMACCESS Internet\\nVAT No. DE199378386\\nInvoice No\\n123100401\\nAmount\\n-without VAT- quantity\\n130,00 € 1\\n10,00 € 0\\n50,00 € 0\\n1.000,00 € 0\\n10,00 € 0\\n0,58 € 14\\n0,70 € 0\\n1,50 € 162\\n0,50 € 0\\n0,80 € 0\\n1,80 € 0\\n0,30 € 0\\n0,30 € 0\\n0,40 € 0\\n0,40 € 0\\n0,30 € 0\\n0,30 € 0\\nTerms of Payment: Immediate payment without discount. Any bank charges must be paid by the invoice recipient.\\nBank fees at our expense will be charged to the invoice recipient!\\nPlease credit the amount invoiced to IBAN DE29 1234 5678 9012 3456 78 | BIC GENODE51MIC (SEPA Credit Transfer)\\nThis invoice is generated automatically and will not be signed\\nTransaction Fee T6 0,00 €\\n130,00 €\\nBasis fee for additional user accounts 0,00 €\\n0,00 €\\n0,00 €\\nBasic Fee wmPos\\nChange of user accounts\\nTransaction Fee T1\\n01.02.2024 - 29.02.2024\\nTransaction Fee G6 0,00 €\\n0,00 €\\nVAT 19 % 72,41 €\\nTransaction Fee G3 0,00 €\\nTransaction Fee G5 0,00 €\\nTransaction Fee G1 0,00 €\\nTransaction Fee G4\\nTransaction Fee G2\\n0,00 €\\nDate\\n1. März 2024\\nCustomer No\\n12345\\nInvoice Period\\n0,00 €\\nTransaction Fee T5 0,00 €\\n243,00 €\\n8,12 €\\nTransaction Fee T2 0,00 €\\nTransaction Fee T3\\nGross Amount incl. VAT 453,53 €\\nTotal 381,12 €\\nService Description Total Amount\\nBasic Fee wmView\\nBasic Fee wmGuide\\n0,00 €\\nTransaction Fee T4'),\n",
       " Document(metadata={'producer': 'Microsoft® Excel® 2016', 'creator': 'Microsoft® Excel® 2016', 'creationdate': '2023-09-08T15:57:51+02:00', 'author': 'CPB Software (Germany) GmbH', 'keywords': '\"WMACCESS, Invoice, Sample Invoice\"', 'moddate': '2023-09-08T15:59:22+02:00', 'subject': 'WMACCESS', 'title': 'Sample Invoice', 'source': 'K:/RAG/Data/sample-invoice.pdf', 'total_pages': 3, 'page': 1, 'page_label': '2'}, page_content='Request sections: T1: T2: T3: T4: T5: T6: G1: G2: G3: G4: G5: G6:\\nAmount in Euro: 0,58 0,70 1,50 0,50 0,80 1,80 0,30 0,30 0,40 0,40 0,30 0,30\\nuser-account-1 10 0 99 0 0 0 0 0 0 0 0 0 154,30 €\\nuser-account-2 4 0 63 0 0 0 0 0 0 0 0 0 96,82 €\\nTransaction Fee Seg T1: T2: T3: T4: T5: T6: G1: G2: G3: G4: G5: G6:\\nQueries in Total: 14 0 162 0 0 0 0 0 0 0 0 0\\nTotal in Euro: 8,12 € 0,00 € 243,00 € 0,00 € 0,00 € 0,00 € 0,00 € 0,00 € 0,00 € 0,00 € 0,00 € 0,00 € 251,12 €\\nInvoice Details\\nPeriod:        01.02.2024        to        29.02.2024\\nUnit:        Musterkunde AG                                                            12345\\nThe explanation of the query fee categories (T1 to T6 and G1 to G6) can be found on our website:\\nhttps://www.wmaccess.com/abfragekategorien'),\n",
       " Document(metadata={'producer': 'Microsoft® Excel® 2016', 'creator': 'Microsoft® Excel® 2016', 'creationdate': '2023-09-08T15:57:51+02:00', 'author': 'CPB Software (Germany) GmbH', 'keywords': '\"WMACCESS, Invoice, Sample Invoice\"', 'moddate': '2023-09-08T15:59:22+02:00', 'subject': 'WMACCESS', 'title': 'Sample Invoice', 'source': 'K:/RAG/Data/sample-invoice.pdf', 'total_pages': 3, 'page': 2, 'page_label': '3'}, page_content='T1: T2: T3: T4: T5: T6:\\n4 0 9 0 0 0\\n0 0 12 0 0 0\\n0 0 4 0 0 0\\n5 0 36 0 0 0\\n0 0 19 0 0 0\\n1 0 7 0 0 0\\n2 0 6 0 0 0\\n0 0 11 0 0 0\\n0 0 15 0 0 0\\n0 0 5 0 0 0\\n1 0 23 0 0 0\\n1 0 4 0 0 0\\n0 0 11 0 0 0\\n0,58 0,70 1,50 0,50 0,80 1,80\\n16,50 €\\nKpi/22695 10,16 €\\nGS 32090 11,08 €\\n18,00 €\\n28,50 €\\nCRS/28432\\n16,50 €\\nWPN:24791 6,58 €\\nTtrb/17885 35,08 €\\nSF-M 596/99-08 7,50 €\\n22,50 €\\nInvoice Details for wmView Query Reference\\nPeriod:        01.02.2024        to        29.02.2024\\nUnit:        Musterkunde AG                                                            12345\\nwmview, wmProfile and User Profiles Query Segments:\\n56,90 €\\nCCL/3715\\n15,82 €\\n6,00 €\\nAZR/31/27439\\nPrice for each Query in Euro:\\nQuery Reference:\\n*Not specified*\\nWwt/15658\\nPG 7772\\nCs/52113\\nRjn/11138')]"
      ]
     },
     "execution_count": 81,
     "metadata": {},
     "output_type": "execute_result"
    }
   ],
   "source": [
    "from langchain_community.document_loaders import PyPDFLoader\n",
    "# loader = PyPDFLoader(\"Data/sample-invoice.pdf\")\n",
    "loader = loader = PyPDFLoader(\"K:/RAG/Data/sample-invoice.pdf\")\n",
    "document = loader.load()\n",
    "document"
   ]
  },
  {
   "cell_type": "code",
   "execution_count": 82,
   "id": "b4c573f6",
   "metadata": {},
   "outputs": [],
   "source": [
    "from langchain.embeddings import HuggingFaceEmbeddings\n",
    "from langchain.vectorstores import FAISS\n",
    "\n",
    "embeddings = HuggingFaceEmbeddings(model_name=\"all-MiniLM-L6-v2\")\n",
    "data_base = FAISS.from_documents(document,embeddings)"
   ]
  },
  {
   "cell_type": "code",
   "execution_count": 83,
   "id": "17ef768c",
   "metadata": {},
   "outputs": [
    {
     "name": "stdout",
     "output_type": "stream",
     "text": [
      "<langchain_community.vectorstores.faiss.FAISS object at 0x00000145BCC43AF0>\n"
     ]
    }
   ],
   "source": [
    "print(data_base)\n"
   ]
  },
  {
   "cell_type": "code",
   "execution_count": 84,
   "id": "42185248",
   "metadata": {},
   "outputs": [],
   "source": [
    "retriever = data_base.as_retriever(search_kwargs={\"k\": 2})"
   ]
  },
  {
   "cell_type": "code",
   "execution_count": 85,
   "id": "d48ee10a",
   "metadata": {},
   "outputs": [],
   "source": [
    "# from langchain.chat_models import ChatGroq\n",
    "from langchain_groq import ChatGroq\n",
    "\n",
    "llm =ChatGroq(model=\"llama-3.3-70b-versatile\",api_key=groq_api_key) "
   ]
  },
  {
   "cell_type": "code",
   "execution_count": 86,
   "id": "40739d06",
   "metadata": {},
   "outputs": [],
   "source": [
    "\n",
    "invoice_prompt = PromptTemplate(\n",
    "    input_variables=[\"context\", \"question\"],\n",
    "    template=\"\"\"\n",
    "You are an intelligent assistant specialized in understanding and analyzing invoice documents.\n",
    "\n",
    "Use the following context to answer the question. Focus on:\n",
    "- Invoice number, customer number, date\n",
    "- Name and phone\n",
    "- Invoice period\n",
    "- Service description\n",
    "- Amount without VAT\n",
    "- VAT number\n",
    "- Total amounts\n",
    "- Gross amount including VAT\n",
    "\n",
    "Respond clearly and professionally. If information is missing, say so without guessing.\n",
    "\n",
    "Context:\n",
    "{context}\n",
    "\n",
    "Question:\n",
    "{question}\n",
    "\"\"\"\n",
    ")\n",
    "\n",
    "\n",
    "\n",
    "\n"
   ]
  },
  {
   "cell_type": "code",
   "execution_count": 87,
   "id": "1ef71fbb",
   "metadata": {},
   "outputs": [
    {
     "name": "stdout",
     "output_type": "stream",
     "text": [
      "Object `provided` not found.\n",
      "Based on the provided invoice document, the services that were provided can be inferred from the \"Service Description\" section, although it appears to be partially incomplete or not fully detailed. However, we can identify the following services and their associated amounts without VAT:\n",
      "\n",
      "1. **Basic Fee wmPos** - No amount specified.\n",
      "2. **Change of user accounts** - No amount specified.\n",
      "3. **Transaction Fee T6** - 0.00 €\n",
      "4. **Basis fee for additional user accounts** - 0.00 €\n",
      "5. **Basic Fee wmView** - No amount specified.\n",
      "6. **Basic Fee wmGuide** - No amount specified.\n",
      "\n",
      "Additionally, there are various transaction fees mentioned (T1 to T6 and G1 to G6), but most of them have a value of 0.00 €, except for:\n",
      "\n",
      "- **T1**: Related to a charge of 0.58 € per unit, with 14 units charged, totaling 8.12 €.\n",
      "- **T3**: Related to a charge of 1.50 € per unit, with 162 units charged, totaling 243.00 €.\n",
      "\n",
      "These services are associated with specific rates and quantities, as detailed in the invoice. For more detailed explanations of the query fee categories (T1 to T6 and G1 to G6), the invoice directs to the website https://www.wmaccess.com/abfragekategorien. \n",
      "\n",
      "It's also worth noting that the invoice includes charges for user accounts (user-account-1 and user-account-2) with specific totals in Euros, but the exact nature of these services beyond being related to user accounts is not detailed in the provided information.\n"
     ]
    }
   ],
   "source": [
    "rag_chain = RetrievalQA.from_chain_type(\n",
    "    llm=llm,\n",
    "    retriever=retriever,\n",
    "    chain_type_kwargs={\"prompt\": invoice_prompt},\n",
    "    return_source_documents=False\n",
    ")\n",
    "\"What services were provided?\n",
    "query =\"What services were provided? \"\n",
    "response = rag_chain.invoke(query)\n",
    "\n",
    "print(response[\"result\"])\n"
   ]
  }
 ],
 "metadata": {
  "kernelspec": {
   "display_name": "RAG_venv (3.10.11)",
   "language": "python",
   "name": "python3"
  },
  "language_info": {
   "codemirror_mode": {
    "name": "ipython",
    "version": 3
   },
   "file_extension": ".py",
   "mimetype": "text/x-python",
   "name": "python",
   "nbconvert_exporter": "python",
   "pygments_lexer": "ipython3",
   "version": "3.10.11"
  }
 },
 "nbformat": 4,
 "nbformat_minor": 5
}
